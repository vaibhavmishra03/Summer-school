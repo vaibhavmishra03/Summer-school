{
  "nbformat": 4,
  "nbformat_minor": 0,
  "metadata": {
    "colab": {
      "provenance": [],
      "authorship_tag": "ABX9TyMgzgkMCMBPnN1Nm8QmEI2d",
      "include_colab_link": true
    },
    "kernelspec": {
      "name": "python3",
      "display_name": "Python 3"
    },
    "language_info": {
      "name": "python"
    }
  },
  "cells": [
    {
      "cell_type": "markdown",
      "metadata": {
        "id": "view-in-github",
        "colab_type": "text"
      },
      "source": [
        "<a href=\"https://colab.research.google.com/github/vaibhavmishra03/Summer-school/blob/main/Untitled0.ipynb\" target=\"_parent\"><img src=\"https://colab.research.google.com/assets/colab-badge.svg\" alt=\"Open In Colab\"/></a>"
      ]
    },
    {
      "cell_type": "code",
      "execution_count": null,
      "metadata": {
        "id": "PUUuVP-Xt8QW"
      },
      "outputs": [],
      "source": [
        "# L = [\"ram\",\"Shayam\",\"Aman\",5,2,7,4]\n",
        "# L = (str(i)for i in L)\n",
        "# L.sort()\n",
        "# print(L)\n",
        "\n",
        "# L1 = []\n",
        "# for i in L:\n",
        "#   try:\n",
        "#     L1.append(int(i))\n",
        "#     except:\n",
        "#       L1.append(i)\n",
        "\n",
        "# print(L1)\n",
        "import time\n",
        "\n",
        "t1= time.time()\n",
        "\n",
        "for i in range(100000):\n",
        "  for j in range(100000):\n",
        "    x=900\n",
        "\n",
        "\n",
        "\n",
        "t2 = time.time()\n",
        "print(\"total time \" ,t2-21)"
      ]
    }
  ]
}